{
  "nbformat": 4,
  "nbformat_minor": 0,
  "metadata": {
    "colab": {
      "name": "MLP_Wikidocs",
      "provenance": [],
      "collapsed_sections": [
        "DlW7yuonV0wM"
      ],
      "authorship_tag": "ABX9TyMxy+1cK5Bbrw6FhjVvdAF8",
      "include_colab_link": true
    },
    "kernelspec": {
      "name": "python3",
      "display_name": "Python 3"
    },
    "language_info": {
      "name": "python"
    },
    "accelerator": "GPU"
  },
  "cells": [
    {
      "cell_type": "markdown",
      "metadata": {
        "id": "view-in-github",
        "colab_type": "text"
      },
      "source": [
        "<a href=\"https://colab.research.google.com/github/readyfornewnormal/Text_Classification/blob/main/MLP_Wikidocs_MLP.ipynb\" target=\"_parent\"><img src=\"https://colab.research.google.com/assets/colab-badge.svg\" alt=\"Open In Colab\"/></a>"
      ]
    },
    {
      "cell_type": "markdown",
      "source": [
        "# Q & A"
      ],
      "metadata": {
        "id": "N5F7WvqdIBqJ"
      }
    },
    {
      "cell_type": "markdown",
      "source": [
        "### 1. 한글 + 영문 섞인 데이터 전처링 어떻게? 영어가 대부분이니까 그냥 한글은 삭제 하는게 나으려나?\n",
        "\n",
        "* bag of words 기반 모델은 관계 없어\n",
        "\n"
      ],
      "metadata": {
        "id": "H6eSN5zQILfT"
      }
    },
    {
      "cell_type": "markdown",
      "source": [
        "# To do"
      ],
      "metadata": {
        "id": "DlW7yuonV0wM"
      }
    },
    {
      "cell_type": "markdown",
      "source": [
        "1. 단어 분석\n",
        "2. 장비명 통일 (라이브러리 검색 및 조교 문의)\n",
        "3. 원인조직 카테고리 추가\n",
        "4. 노이즈 제거 - 몇자 이하, 특정 코멘트는 제외"
      ],
      "metadata": {
        "id": "WO0IIjl_V5ke"
      }
    },
    {
      "cell_type": "markdown",
      "source": [
        "# Code\n",
        "1. texts_to_matrix() 이해\n",
        "2. 데이터 세팅\n",
        "3. MLP 모델링"
      ],
      "metadata": {
        "id": "YE5o-im6IS0i"
      }
    },
    {
      "cell_type": "markdown",
      "source": [
        " ## 1. texts_to_matrix() 이해"
      ],
      "metadata": {
        "id": "DUX4OHuvUJtE"
      }
    },
    {
      "cell_type": "code",
      "source": [
        "import numpy as np\n",
        "from tensorflow.keras.preprocessing.text import Tokenizer"
      ],
      "metadata": {
        "id": "oX1iPbSpUSpK"
      },
      "execution_count": null,
      "outputs": []
    },
    {
      "cell_type": "markdown",
      "source": [
        "* 케라스 전처리 도구 Tokenizer 임포트 + 정수 인코딩"
      ],
      "metadata": {
        "id": "FEvletgvUv7J"
      }
    },
    {
      "cell_type": "code",
      "source": [
        "texts = ['먹고 싶은 사과', '먹고 싶은 바나나', '길고 노란 바나나 바나나', '저는 과일이 좋아요']"
      ],
      "metadata": {
        "id": "rYl1VgPgSN_L"
      },
      "execution_count": null,
      "outputs": []
    },
    {
      "cell_type": "code",
      "source": [
        "tokenizer = Tokenizer()\n",
        "tokenizer.fit_on_texts(texts)\n",
        "print(tokenizer.word_index)"
      ],
      "metadata": {
        "colab": {
          "base_uri": "https://localhost:8080/"
        },
        "id": "LcTvgolaSOtO",
        "outputId": "f35d0f14-c6c0-469b-86d5-3249c7dd81a2"
      },
      "execution_count": null,
      "outputs": [
        {
          "output_type": "stream",
          "name": "stdout",
          "text": [
            "{'바나나': 1, '먹고': 2, '싶은': 3, '사과': 4, '길고': 5, '노란': 6, '저는': 7, '과일이': 8, '좋아요': 9}\n"
          ]
        }
      ]
    },
    {
      "cell_type": "markdown",
      "source": [
        "* texts_to_matrix(): 텍스트 데이터로부터 행렬 생성 (네가지 모드)"
      ],
      "metadata": {
        "id": "KLCKliM-Uayz"
      }
    },
    {
      "cell_type": "code",
      "source": [
        "print(tokenizer.texts_to_matrix(texts, mode = 'count'))"
      ],
      "metadata": {
        "colab": {
          "base_uri": "https://localhost:8080/"
        },
        "id": "Kmh9Y_F8SP4Z",
        "outputId": "c0becdad-7085-4636-a9a1-73eef3c06473"
      },
      "execution_count": null,
      "outputs": [
        {
          "output_type": "stream",
          "name": "stdout",
          "text": [
            "[[0. 0. 1. 1. 1. 0. 0. 0. 0. 0.]\n",
            " [0. 1. 1. 1. 0. 0. 0. 0. 0. 0.]\n",
            " [0. 2. 0. 0. 0. 1. 1. 0. 0. 0.]\n",
            " [0. 0. 0. 0. 0. 0. 0. 1. 1. 1.]]\n"
          ]
        }
      ]
    },
    {
      "cell_type": "code",
      "source": [
        "print(tokenizer.texts_to_matrix(texts, mode = 'binary'))"
      ],
      "metadata": {
        "colab": {
          "base_uri": "https://localhost:8080/"
        },
        "id": "YcWc32umSXhH",
        "outputId": "f7f97747-9f1a-4dd7-c1fa-8ef4f3a41139"
      },
      "execution_count": null,
      "outputs": [
        {
          "output_type": "stream",
          "name": "stdout",
          "text": [
            "[[0. 0. 1. 1. 1. 0. 0. 0. 0. 0.]\n",
            " [0. 1. 1. 1. 0. 0. 0. 0. 0. 0.]\n",
            " [0. 1. 0. 0. 0. 1. 1. 0. 0. 0.]\n",
            " [0. 0. 0. 0. 0. 0. 0. 1. 1. 1.]]\n"
          ]
        }
      ]
    },
    {
      "cell_type": "code",
      "source": [
        "print(tokenizer.texts_to_matrix(texts, mode = 'tfidf').round(2))"
      ],
      "metadata": {
        "colab": {
          "base_uri": "https://localhost:8080/"
        },
        "id": "gjKjaceaSaMU",
        "outputId": "73a88f25-7f97-4e50-ccb0-e3dd0d5a7658"
      },
      "execution_count": null,
      "outputs": [
        {
          "output_type": "stream",
          "name": "stdout",
          "text": [
            "[[0.   0.   0.85 0.85 1.1  0.   0.   0.   0.   0.  ]\n",
            " [0.   0.85 0.85 0.85 0.   0.   0.   0.   0.   0.  ]\n",
            " [0.   1.43 0.   0.   0.   1.1  1.1  0.   0.   0.  ]\n",
            " [0.   0.   0.   0.   0.   0.   0.   1.1  1.1  1.1 ]]\n"
          ]
        }
      ]
    },
    {
      "cell_type": "code",
      "source": [
        "print(tokenizer.texts_to_matrix(texts, mode = 'freq').round(2))"
      ],
      "metadata": {
        "colab": {
          "base_uri": "https://localhost:8080/"
        },
        "id": "yVYRtQ_ISc2F",
        "outputId": "524121f9-f0db-4431-b440-8be968291cfc"
      },
      "execution_count": null,
      "outputs": [
        {
          "output_type": "stream",
          "name": "stdout",
          "text": [
            "[[0.   0.   0.33 0.33 0.33 0.   0.   0.   0.   0.  ]\n",
            " [0.   0.33 0.33 0.33 0.   0.   0.   0.   0.   0.  ]\n",
            " [0.   0.5  0.   0.   0.   0.25 0.25 0.   0.   0.  ]\n",
            " [0.   0.   0.   0.   0.   0.   0.   0.33 0.33 0.33]]\n"
          ]
        }
      ]
    },
    {
      "cell_type": "markdown",
      "source": [
        "## 2. 데이터 세팅"
      ],
      "metadata": {
        "id": "ItQbo2r-UdxE"
      }
    },
    {
      "cell_type": "code",
      "source": [
        "import pandas as pd\n",
        "from sklearn.datasets import fetch_20newsgroups\n",
        "import matplotlib.pyplot as plt\n",
        "from tensorflow.keras.preprocessing.text import Tokenizer\n",
        "from tensorflow.keras.utils import to_categorical\n",
        "import os\n",
        "import re"
      ],
      "metadata": {
        "id": "1n7GTG7DUf6J"
      },
      "execution_count": null,
      "outputs": []
    },
    {
      "cell_type": "code",
      "source": [
        "from google.colab import drive\n",
        "drive.mount('/content/gdrive/')"
      ],
      "metadata": {
        "colab": {
          "base_uri": "https://localhost:8080/"
        },
        "id": "WkLBencTSe5Q",
        "outputId": "bd2f9b52-231b-414f-8524-49f277064f92"
      },
      "execution_count": null,
      "outputs": [
        {
          "output_type": "stream",
          "name": "stdout",
          "text": [
            "Drive already mounted at /content/gdrive/; to attempt to forcibly remount, call drive.mount(\"/content/gdrive/\", force_remount=True).\n"
          ]
        }
      ]
    },
    {
      "cell_type": "code",
      "source": [
        "path = \"gdrive/My Drive/Colab Notebooks/data\""
      ],
      "metadata": {
        "id": "D8MGr4Z2S-ra"
      },
      "execution_count": null,
      "outputs": []
    },
    {
      "cell_type": "code",
      "source": [
        "os.listdir(\"gdrive/My Drive/Colab Notebooks/data\")\n",
        "\n",
        "# 지정한 폴더의 파일을 리스트 형태로 반환"
      ],
      "metadata": {
        "colab": {
          "base_uri": "https://localhost:8080/"
        },
        "id": "H6dgXFI-TCjp",
        "outputId": "5cce14d2-5503-4705-d679-68882457e918"
      },
      "execution_count": null,
      "outputs": [
        {
          "output_type": "execute_result",
          "data": {
            "text/plain": [
              "['test.csv', 'train.csv']"
            ]
          },
          "metadata": {},
          "execution_count": 11
        }
      ]
    },
    {
      "cell_type": "code",
      "source": [
        "train = pd.read_csv(os.path.join(path,\"train.csv\"))\n",
        "test = pd.read_csv(os.path.join(path, \"test.csv\"))"
      ],
      "metadata": {
        "id": "6XQRKJcjUKGq"
      },
      "execution_count": null,
      "outputs": []
    },
    {
      "cell_type": "code",
      "source": [
        "print(train.keys())"
      ],
      "metadata": {
        "colab": {
          "base_uri": "https://localhost:8080/"
        },
        "id": "KcKbmHD7UKdP",
        "outputId": "35a69380-0601-4eef-abeb-c5dab8d81163"
      },
      "execution_count": null,
      "outputs": [
        {
          "output_type": "stream",
          "name": "stdout",
          "text": [
            "Index(['index', 'category', 'content'], dtype='object')\n"
          ]
        }
      ]
    },
    {
      "cell_type": "code",
      "source": [
        "print('훈련용 샘플의 개수 : {}'.format(len(train.content)))"
      ],
      "metadata": {
        "colab": {
          "base_uri": "https://localhost:8080/"
        },
        "id": "gQB_of_sUNxl",
        "outputId": "d4a36154-5cc1-408d-ecc5-6554c05c0982"
      },
      "execution_count": null,
      "outputs": [
        {
          "output_type": "stream",
          "name": "stdout",
          "text": [
            "훈련용 샘플의 개수 : 50969\n"
          ]
        }
      ]
    },
    {
      "cell_type": "code",
      "source": [
        "print('카테고리 개수 : {}'.format(len(train.category)))\n",
        "print(train.category)"
      ],
      "metadata": {
        "colab": {
          "base_uri": "https://localhost:8080/"
        },
        "id": "PPgyoCxNUPiy",
        "outputId": "62610c68-a277-4e9a-bfba-fc0d6d9c4f86"
      },
      "execution_count": null,
      "outputs": [
        {
          "output_type": "stream",
          "name": "stdout",
          "text": [
            "카테고리 개수 : 50969\n",
            "0        0\n",
            "1        0\n",
            "2        0\n",
            "3        0\n",
            "4        0\n",
            "        ..\n",
            "50964    1\n",
            "50965    1\n",
            "50966    1\n",
            "50967    1\n",
            "50968    1\n",
            "Name: category, Length: 50969, dtype: int64\n"
          ]
        }
      ]
    },
    {
      "cell_type": "code",
      "source": [
        "print(train.content[0])"
      ],
      "metadata": {
        "id": "_xjUXPeUVRNR",
        "colab": {
          "base_uri": "https://localhost:8080/"
        },
        "outputId": "c6b99290-45d8-4fec-a75c-c14557475d0a"
      },
      "execution_count": null,
      "outputs": [
        {
          "output_type": "stream",
          "name": "stdout",
          "text": [
            "문제점\r\n",
            "OFS1-3BAY 순회점검\r\n",
            "B#823 SS1A 용접 진행 중\r\n",
            "SHELL BUTT & LONGI 교차부 50V 미시공 용접 진행 확인\r\n",
            "\r\n",
            "조   치\r\n",
            "관리자 내용 전달 \r\n",
            "해당부 용접부 가우징 및 50V 시공 후 재용접 수정 요청\r\n",
            "BUTT 용접성 확보\r\n",
            "용접교차부 선용접 또는 50V 시공 관리 독려 바랍니다.\n"
          ]
        }
      ]
    },
    {
      "cell_type": "code",
      "source": [
        "train['content'] = train['content'].str.replace(r'[-=+,#/\\?:^$.@*\\\"※~&%ㆍ!』\\\\‘|\\(\\)\\[\\]\\<\\>`\\'…》\\\\n\\t]+', \" \", regex=True)\n",
        "test['content'] = test['content'].str.replace(r'[-=+,#/\\?:^$.@*\\\"※~&%ㆍ!』\\\\‘|\\(\\)\\[\\]\\<\\>`\\'…》]', \" \", regex=True)\n",
        "train['content'] = train['content'].str.replace(r'\\t+', \" \", regex=True)\n",
        "test['content'] = test['content'].str.replace(r'\\t+', \" \", regex=True)\n",
        "train['content'] = train['content'].str.replace(r'[\\\\n]+',\" \", regex=True)\n",
        "test['content'] = test['content'].str.replace(r'[\\\\n]+',\" \", regex=True) \n",
        "train['content'] = train['content'].str.lower()\n",
        "test['content'] = test['content'].str.lower()"
      ],
      "metadata": {
        "id": "FWkIWuvBWpoX"
      },
      "execution_count": null,
      "outputs": []
    },
    {
      "cell_type": "code",
      "source": [
        "train_df = pd.DataFrame(train.content, columns = ['content'])\n",
        "train_df['category'] = pd.Series(train.category)\n",
        "train_df[:5]"
      ],
      "metadata": {
        "colab": {
          "base_uri": "https://localhost:8080/",
          "height": 206
        },
        "id": "t_zn13s7KuNp",
        "outputId": "5330673a-55ca-42b7-f7df-d09efa5cbb3d"
      },
      "execution_count": null,
      "outputs": [
        {
          "output_type": "execute_result",
          "data": {
            "text/html": [
              "\n",
              "  <div id=\"df-a31874c0-a22c-43b8-9f31-cdc7fad1c8e3\">\n",
              "    <div class=\"colab-df-container\">\n",
              "      <div>\n",
              "<style scoped>\n",
              "    .dataframe tbody tr th:only-of-type {\n",
              "        vertical-align: middle;\n",
              "    }\n",
              "\n",
              "    .dataframe tbody tr th {\n",
              "        vertical-align: top;\n",
              "    }\n",
              "\n",
              "    .dataframe thead th {\n",
              "        text-align: right;\n",
              "    }\n",
              "</style>\n",
              "<table border=\"1\" class=\"dataframe\">\n",
              "  <thead>\n",
              "    <tr style=\"text-align: right;\">\n",
              "      <th></th>\n",
              "      <th>content</th>\n",
              "      <th>category</th>\n",
              "    </tr>\n",
              "  </thead>\n",
              "  <tbody>\n",
              "    <tr>\n",
              "      <th>0</th>\n",
              "      <td>문제점\\r\\nofs1 3bay 순회점검\\r\\nb 823 ss1a 용접 진행 중\\r\\...</td>\n",
              "      <td>0</td>\n",
              "    </tr>\n",
              "    <tr>\n",
              "      <th>1</th>\n",
              "      <td>7  ec scrubber pressure gauge is  ot properly ...</td>\n",
              "      <td>0</td>\n",
              "    </tr>\n",
              "    <tr>\n",
              "      <th>2</th>\n",
              "      <td>mai  e gi es  freque t breakages of high press...</td>\n",
              "      <td>0</td>\n",
              "    </tr>\n",
              "    <tr>\n",
              "      <th>3</th>\n",
              "      <td>me scr reactor outlet valve ca ot be operated ...</td>\n",
              "      <td>0</td>\n",
              "    </tr>\n",
              "    <tr>\n",
              "      <th>4</th>\n",
              "      <td>8  om212v v  v v extension 추가 공급  기장배관설계\\r\\n  ...</td>\n",
              "      <td>0</td>\n",
              "    </tr>\n",
              "  </tbody>\n",
              "</table>\n",
              "</div>\n",
              "      <button class=\"colab-df-convert\" onclick=\"convertToInteractive('df-a31874c0-a22c-43b8-9f31-cdc7fad1c8e3')\"\n",
              "              title=\"Convert this dataframe to an interactive table.\"\n",
              "              style=\"display:none;\">\n",
              "        \n",
              "  <svg xmlns=\"http://www.w3.org/2000/svg\" height=\"24px\"viewBox=\"0 0 24 24\"\n",
              "       width=\"24px\">\n",
              "    <path d=\"M0 0h24v24H0V0z\" fill=\"none\"/>\n",
              "    <path d=\"M18.56 5.44l.94 2.06.94-2.06 2.06-.94-2.06-.94-.94-2.06-.94 2.06-2.06.94zm-11 1L8.5 8.5l.94-2.06 2.06-.94-2.06-.94L8.5 2.5l-.94 2.06-2.06.94zm10 10l.94 2.06.94-2.06 2.06-.94-2.06-.94-.94-2.06-.94 2.06-2.06.94z\"/><path d=\"M17.41 7.96l-1.37-1.37c-.4-.4-.92-.59-1.43-.59-.52 0-1.04.2-1.43.59L10.3 9.45l-7.72 7.72c-.78.78-.78 2.05 0 2.83L4 21.41c.39.39.9.59 1.41.59.51 0 1.02-.2 1.41-.59l7.78-7.78 2.81-2.81c.8-.78.8-2.07 0-2.86zM5.41 20L4 18.59l7.72-7.72 1.47 1.35L5.41 20z\"/>\n",
              "  </svg>\n",
              "      </button>\n",
              "      \n",
              "  <style>\n",
              "    .colab-df-container {\n",
              "      display:flex;\n",
              "      flex-wrap:wrap;\n",
              "      gap: 12px;\n",
              "    }\n",
              "\n",
              "    .colab-df-convert {\n",
              "      background-color: #E8F0FE;\n",
              "      border: none;\n",
              "      border-radius: 50%;\n",
              "      cursor: pointer;\n",
              "      display: none;\n",
              "      fill: #1967D2;\n",
              "      height: 32px;\n",
              "      padding: 0 0 0 0;\n",
              "      width: 32px;\n",
              "    }\n",
              "\n",
              "    .colab-df-convert:hover {\n",
              "      background-color: #E2EBFA;\n",
              "      box-shadow: 0px 1px 2px rgba(60, 64, 67, 0.3), 0px 1px 3px 1px rgba(60, 64, 67, 0.15);\n",
              "      fill: #174EA6;\n",
              "    }\n",
              "\n",
              "    [theme=dark] .colab-df-convert {\n",
              "      background-color: #3B4455;\n",
              "      fill: #D2E3FC;\n",
              "    }\n",
              "\n",
              "    [theme=dark] .colab-df-convert:hover {\n",
              "      background-color: #434B5C;\n",
              "      box-shadow: 0px 1px 3px 1px rgba(0, 0, 0, 0.15);\n",
              "      filter: drop-shadow(0px 1px 2px rgba(0, 0, 0, 0.3));\n",
              "      fill: #FFFFFF;\n",
              "    }\n",
              "  </style>\n",
              "\n",
              "      <script>\n",
              "        const buttonEl =\n",
              "          document.querySelector('#df-a31874c0-a22c-43b8-9f31-cdc7fad1c8e3 button.colab-df-convert');\n",
              "        buttonEl.style.display =\n",
              "          google.colab.kernel.accessAllowed ? 'block' : 'none';\n",
              "\n",
              "        async function convertToInteractive(key) {\n",
              "          const element = document.querySelector('#df-a31874c0-a22c-43b8-9f31-cdc7fad1c8e3');\n",
              "          const dataTable =\n",
              "            await google.colab.kernel.invokeFunction('convertToInteractive',\n",
              "                                                     [key], {});\n",
              "          if (!dataTable) return;\n",
              "\n",
              "          const docLinkHtml = 'Like what you see? Visit the ' +\n",
              "            '<a target=\"_blank\" href=https://colab.research.google.com/notebooks/data_table.ipynb>data table notebook</a>'\n",
              "            + ' to learn more about interactive tables.';\n",
              "          element.innerHTML = '';\n",
              "          dataTable['output_type'] = 'display_data';\n",
              "          await google.colab.output.renderOutput(dataTable, element);\n",
              "          const docLink = document.createElement('div');\n",
              "          docLink.innerHTML = docLinkHtml;\n",
              "          element.appendChild(docLink);\n",
              "        }\n",
              "      </script>\n",
              "    </div>\n",
              "  </div>\n",
              "  "
            ],
            "text/plain": [
              "                                             content  category\n",
              "0  문제점\\r\\nofs1 3bay 순회점검\\r\\nb 823 ss1a 용접 진행 중\\r\\...         0\n",
              "1  7  ec scrubber pressure gauge is  ot properly ...         0\n",
              "2  mai  e gi es  freque t breakages of high press...         0\n",
              "3  me scr reactor outlet valve ca ot be operated ...         0\n",
              "4  8  om212v v  v v extension 추가 공급  기장배관설계\\r\\n  ...         0"
            ]
          },
          "metadata": {},
          "execution_count": 18
        }
      ]
    },
    {
      "cell_type": "code",
      "source": [
        "test_df = pd.DataFrame(test.content, columns = ['content'])\n",
        "test_df['category'] = pd.Series(test.category)\n",
        "test_df[:5]"
      ],
      "metadata": {
        "colab": {
          "base_uri": "https://localhost:8080/",
          "height": 206
        },
        "id": "8dLgv0p8Qs7J",
        "outputId": "02aa861e-53c8-4ee7-94a2-1b6a8d488ac2"
      },
      "execution_count": null,
      "outputs": [
        {
          "output_type": "execute_result",
          "data": {
            "text/html": [
              "\n",
              "  <div id=\"df-4b41f95a-e8d8-4684-8077-e12413220796\">\n",
              "    <div class=\"colab-df-container\">\n",
              "      <div>\n",
              "<style scoped>\n",
              "    .dataframe tbody tr th:only-of-type {\n",
              "        vertical-align: middle;\n",
              "    }\n",
              "\n",
              "    .dataframe tbody tr th {\n",
              "        vertical-align: top;\n",
              "    }\n",
              "\n",
              "    .dataframe thead th {\n",
              "        text-align: right;\n",
              "    }\n",
              "</style>\n",
              "<table border=\"1\" class=\"dataframe\">\n",
              "  <thead>\n",
              "    <tr style=\"text-align: right;\">\n",
              "      <th></th>\n",
              "      <th>content</th>\n",
              "      <th>category</th>\n",
              "    </tr>\n",
              "  </thead>\n",
              "  <tbody>\n",
              "    <tr>\n",
              "      <th>0</th>\n",
              "      <td>nitroge  sulphur dioxide calibratio  gas cyli ...</td>\n",
              "      <td>2</td>\n",
              "    </tr>\n",
              "    <tr>\n",
              "      <th>1</th>\n",
              "      <td>all exhaust gas temperature guage o  mai  e gi...</td>\n",
              "      <td>2</td>\n",
              "    </tr>\n",
              "    <tr>\n",
              "      <th>2</th>\n",
              "      <td>aux  boiler lsmgo filter fwd  drai  valve ca o...</td>\n",
              "      <td>2</td>\n",
              "    </tr>\n",
              "    <tr>\n",
              "      <th>3</th>\n",
              "      <td>acc n_bridge_bridge deck galley vent  battery ...</td>\n",
              "      <td>2</td>\n",
              "    </tr>\n",
              "    <tr>\n",
              "      <th>4</th>\n",
              "      <td>purifier room exh  damper co trol wire의 ope  c...</td>\n",
              "      <td>2</td>\n",
              "    </tr>\n",
              "  </tbody>\n",
              "</table>\n",
              "</div>\n",
              "      <button class=\"colab-df-convert\" onclick=\"convertToInteractive('df-4b41f95a-e8d8-4684-8077-e12413220796')\"\n",
              "              title=\"Convert this dataframe to an interactive table.\"\n",
              "              style=\"display:none;\">\n",
              "        \n",
              "  <svg xmlns=\"http://www.w3.org/2000/svg\" height=\"24px\"viewBox=\"0 0 24 24\"\n",
              "       width=\"24px\">\n",
              "    <path d=\"M0 0h24v24H0V0z\" fill=\"none\"/>\n",
              "    <path d=\"M18.56 5.44l.94 2.06.94-2.06 2.06-.94-2.06-.94-.94-2.06-.94 2.06-2.06.94zm-11 1L8.5 8.5l.94-2.06 2.06-.94-2.06-.94L8.5 2.5l-.94 2.06-2.06.94zm10 10l.94 2.06.94-2.06 2.06-.94-2.06-.94-.94-2.06-.94 2.06-2.06.94z\"/><path d=\"M17.41 7.96l-1.37-1.37c-.4-.4-.92-.59-1.43-.59-.52 0-1.04.2-1.43.59L10.3 9.45l-7.72 7.72c-.78.78-.78 2.05 0 2.83L4 21.41c.39.39.9.59 1.41.59.51 0 1.02-.2 1.41-.59l7.78-7.78 2.81-2.81c.8-.78.8-2.07 0-2.86zM5.41 20L4 18.59l7.72-7.72 1.47 1.35L5.41 20z\"/>\n",
              "  </svg>\n",
              "      </button>\n",
              "      \n",
              "  <style>\n",
              "    .colab-df-container {\n",
              "      display:flex;\n",
              "      flex-wrap:wrap;\n",
              "      gap: 12px;\n",
              "    }\n",
              "\n",
              "    .colab-df-convert {\n",
              "      background-color: #E8F0FE;\n",
              "      border: none;\n",
              "      border-radius: 50%;\n",
              "      cursor: pointer;\n",
              "      display: none;\n",
              "      fill: #1967D2;\n",
              "      height: 32px;\n",
              "      padding: 0 0 0 0;\n",
              "      width: 32px;\n",
              "    }\n",
              "\n",
              "    .colab-df-convert:hover {\n",
              "      background-color: #E2EBFA;\n",
              "      box-shadow: 0px 1px 2px rgba(60, 64, 67, 0.3), 0px 1px 3px 1px rgba(60, 64, 67, 0.15);\n",
              "      fill: #174EA6;\n",
              "    }\n",
              "\n",
              "    [theme=dark] .colab-df-convert {\n",
              "      background-color: #3B4455;\n",
              "      fill: #D2E3FC;\n",
              "    }\n",
              "\n",
              "    [theme=dark] .colab-df-convert:hover {\n",
              "      background-color: #434B5C;\n",
              "      box-shadow: 0px 1px 3px 1px rgba(0, 0, 0, 0.15);\n",
              "      filter: drop-shadow(0px 1px 2px rgba(0, 0, 0, 0.3));\n",
              "      fill: #FFFFFF;\n",
              "    }\n",
              "  </style>\n",
              "\n",
              "      <script>\n",
              "        const buttonEl =\n",
              "          document.querySelector('#df-4b41f95a-e8d8-4684-8077-e12413220796 button.colab-df-convert');\n",
              "        buttonEl.style.display =\n",
              "          google.colab.kernel.accessAllowed ? 'block' : 'none';\n",
              "\n",
              "        async function convertToInteractive(key) {\n",
              "          const element = document.querySelector('#df-4b41f95a-e8d8-4684-8077-e12413220796');\n",
              "          const dataTable =\n",
              "            await google.colab.kernel.invokeFunction('convertToInteractive',\n",
              "                                                     [key], {});\n",
              "          if (!dataTable) return;\n",
              "\n",
              "          const docLinkHtml = 'Like what you see? Visit the ' +\n",
              "            '<a target=\"_blank\" href=https://colab.research.google.com/notebooks/data_table.ipynb>data table notebook</a>'\n",
              "            + ' to learn more about interactive tables.';\n",
              "          element.innerHTML = '';\n",
              "          dataTable['output_type'] = 'display_data';\n",
              "          await google.colab.output.renderOutput(dataTable, element);\n",
              "          const docLink = document.createElement('div');\n",
              "          docLink.innerHTML = docLinkHtml;\n",
              "          element.appendChild(docLink);\n",
              "        }\n",
              "      </script>\n",
              "    </div>\n",
              "  </div>\n",
              "  "
            ],
            "text/plain": [
              "                                             content  category\n",
              "0  nitroge  sulphur dioxide calibratio  gas cyli ...         2\n",
              "1  all exhaust gas temperature guage o  mai  e gi...         2\n",
              "2  aux  boiler lsmgo filter fwd  drai  valve ca o...         2\n",
              "3  acc n_bridge_bridge deck galley vent  battery ...         2\n",
              "4  purifier room exh  damper co trol wire의 ope  c...         2"
            ]
          },
          "metadata": {},
          "execution_count": 19
        }
      ]
    },
    {
      "cell_type": "code",
      "source": [
        " # Null 값 확인 / False: Null값 없음\n",
        "\n",
        "train_df.isnull().values.any()"
      ],
      "metadata": {
        "colab": {
          "base_uri": "https://localhost:8080/"
        },
        "id": "q0u6fi7kLPCy",
        "outputId": "a11f0a29-1963-48d0-d066-59be7b99fa20"
      },
      "execution_count": null,
      "outputs": [
        {
          "output_type": "execute_result",
          "data": {
            "text/plain": [
              "False"
            ]
          },
          "metadata": {},
          "execution_count": 20
        }
      ]
    },
    {
      "cell_type": "code",
      "source": [
        "# 중복 제거\n",
        "\n",
        "print('중복을 제외한 샘플의 수 : {}'.format(train_df['content'].nunique()))\n",
        "print('중복을 제외한 카테고리의 수 : {}'.format(train_df['category'].nunique()))"
      ],
      "metadata": {
        "colab": {
          "base_uri": "https://localhost:8080/"
        },
        "id": "1rqmKzdqLseJ",
        "outputId": "b591e75a-bd58-4d17-b63f-986ee1c8faf0"
      },
      "execution_count": null,
      "outputs": [
        {
          "output_type": "stream",
          "name": "stdout",
          "text": [
            "중복을 제외한 샘플의 수 : 43569\n",
            "중복을 제외한 카테고리의 수 : 4\n"
          ]
        }
      ]
    },
    {
      "cell_type": "code",
      "source": [
        "train_df['category'].value_counts().plot(kind='bar');"
      ],
      "metadata": {
        "colab": {
          "base_uri": "https://localhost:8080/",
          "height": 262
        },
        "id": "ywNFlvCMLykY",
        "outputId": "34c7683d-7d9f-4233-f361-3eeaf0334ced"
      },
      "execution_count": null,
      "outputs": [
        {
          "output_type": "display_data",
          "data": {
            "image/png": "[encoded data removed]",
            "text/plain": [
              "<Figure size 432x288 with 1 Axes>"
            ]
          },
          "metadata": {
            "needs_background": "light"
          }
        }
      ]
    },
    {
      "cell_type": "code",
      "source": [
        "test_df['category'].value_counts().plot(kind='bar');"
      ],
      "metadata": {
        "colab": {
          "base_uri": "https://localhost:8080/",
          "height": 262
        },
        "id": "jbm-TMSRhOiD",
        "outputId": "97475c72-898c-4f7a-b1c9-c87125dd1a2e"
      },
      "execution_count": null,
      "outputs": [
        {
          "output_type": "display_data",
          "data": {
            "image/png": "[encoded data removed]",
            "text/plain": [
              "<Figure size 432x288 with 1 Axes>"
            ]
          },
          "metadata": {
            "needs_background": "light"
          }
        }
      ]
    },
    {
      "cell_type": "code",
      "source": [
        "train_content = train_df['content']\n",
        "train_category = train_df['category']\n",
        "test_content = test_df['content']\n",
        "test_category = test_df['category']"
      ],
      "metadata": {
        "id": "ECGmfvR7MG2Z"
      },
      "execution_count": null,
      "outputs": []
    },
    {
      "cell_type": "code",
      "source": [
        "vocab_size = 10000\n",
        "num_categories = 4"
      ],
      "metadata": {
        "id": "dAKfTYcbOlcY"
      },
      "execution_count": null,
      "outputs": []
    },
    {
      "cell_type": "code",
      "source": [
        "def prepare_data(train_data, test_data, mode): # 전처리 함수\n",
        "    tokenizer = Tokenizer(num_words = vocab_size) # vocab_size 개수만큼의 단어만 사용한다.\n",
        "    tokenizer.fit_on_texts(train_data)\n",
        "    X_train = tokenizer.texts_to_matrix(train_data, mode=mode) # 샘플 수 × vocab_size 크기의 행렬 생성\n",
        "    X_test = tokenizer.texts_to_matrix(test_data, mode=mode) # 샘플 수 × vocab_size 크기의 행렬 생성\n",
        "    return X_train, X_test, tokenizer.index_word"
      ],
      "metadata": {
        "id": "Jx4JVOmuS0QR"
      },
      "execution_count": null,
      "outputs": []
    },
    {
      "cell_type": "code",
      "source": [
        "X_train, X_test, index_to_word = prepare_data(train_content, test_content, 'binary') # binary 모드로 변환\n",
        "y_train = to_categorical(train_category, num_categories) # 원-핫 인코딩\n",
        "y_test = to_categorical(test_category, num_categories) # 원-핫 인코딩"
      ],
      "metadata": {
        "id": "lk93mGP5S-2B"
      },
      "execution_count": null,
      "outputs": []
    },
    {
      "cell_type": "code",
      "source": [
        "print('훈련 샘플 content의 개수 : {}'.format(X_train.shape))\n",
        "print('훈련 샘플 category의 개수 : {}'.format(y_train.shape))\n",
        "print('테스트 샘플 content의 개수 : {}'.format(X_test.shape))\n",
        "print('테스트 샘플 category의 개수 : {}'.format(y_test.shape))"
      ],
      "metadata": {
        "colab": {
          "base_uri": "https://localhost:8080/"
        },
        "id": "7WO5ncsVTaOO",
        "outputId": "e38179ea-f327-4a24-b8b5-15018711b862"
      },
      "execution_count": null,
      "outputs": [
        {
          "output_type": "stream",
          "name": "stdout",
          "text": [
            "훈련 샘플 content의 개수 : (50969, 10000)\n",
            "훈련 샘플 category의 개수 : (50969, 4)\n",
            "테스트 샘플 content의 개수 : (6377, 10000)\n",
            "테스트 샘플 category의 개수 : (6377, 4)\n"
          ]
        }
      ]
    },
    {
      "cell_type": "code",
      "source": [
        "print('빈도수 상위 1번 단어 : {}'.format(index_to_word[1]))\n",
        "print('빈도수 상위 9999번 단어 : {}'.format(index_to_word[9999]))"
      ],
      "metadata": {
        "colab": {
          "base_uri": "https://localhost:8080/"
        },
        "id": "aELToRfIT3Ax",
        "outputId": "d4d34340-d581-4b5b-c343-a35fc57a14e9"
      },
      "execution_count": null,
      "outputs": [
        {
          "output_type": "stream",
          "name": "stdout",
          "text": [
            "빈도수 상위 1번 단어 : to\n",
            "빈도수 상위 9999번 단어 : 1rv11\n"
          ]
        }
      ]
    },
    {
      "cell_type": "markdown",
      "source": [
        "## 3. MLP 모델링"
      ],
      "metadata": {
        "id": "AhTCyDkhUmaj"
      }
    },
    {
      "cell_type": "code",
      "source": [
        "from tensorflow.keras.models import Sequential\n",
        "from tensorflow.keras.layers import Dense, Dropout"
      ],
      "metadata": {
        "id": "hwGN_HykT--h"
      },
      "execution_count": null,
      "outputs": []
    },
    {
      "cell_type": "code",
      "source": [
        "def fit_and_evaluate(X_train, y_train, X_test, y_test):\n",
        "    model = Sequential()\n",
        "    model.add(Dense(256, input_shape=(vocab_size,), activation='relu'))\n",
        "    model.add(Dropout(0.5))\n",
        "    model.add(Dense(128, activation='relu'))\n",
        "    model.add(Dropout(0.5))\n",
        "    model.add(Dense(num_categories, activation='softmax'))\n",
        "\n",
        "    model.compile(loss='categorical_crossentropy', optimizer='adam', metrics=['accuracy'])\n",
        "    model.fit(X_train, y_train, batch_size=8, epochs=3, verbose=1, validation_split=0.1)\n",
        "    score = model.evaluate(X_test, y_test, batch_size=8, verbose=1)\n",
        "    return score[1]"
      ],
      "metadata": {
        "id": "6ztkXnrpVBce"
      },
      "execution_count": null,
      "outputs": []
    },
    {
      "cell_type": "code",
      "source": [
        "print('중복을 제외한 Train 샘플 개수 : {}'.format(train_df['content'].nunique()))\n",
        "print('중복을 제외한 Test 샘플 개수 : {}'.format(test_df['content'].nunique()))"
      ],
      "metadata": {
        "id": "Tk6dRdvJVYHu",
        "colab": {
          "base_uri": "https://localhost:8080/"
        },
        "outputId": "3567c8e0-8859-495c-81a7-b4be158f6262"
      },
      "execution_count": null,
      "outputs": [
        {
          "output_type": "stream",
          "name": "stdout",
          "text": [
            "중복을 제외한 Train 샘플 개수 : 43569\n",
            "중복을 제외한 Test 샘플 개수 : 5552\n"
          ]
        }
      ]
    },
    {
      "cell_type": "code",
      "source": [
        "modes = ['binary', 'count', 'tfidf', 'freq']\n",
        "\n",
        "for mode in modes:\n",
        "    X_train, X_test, _ = prepare_data(train_content, test_content, mode)\n",
        "    score = fit_and_evaluate(X_train, y_train, X_test, y_test)\n",
        "    print(mode+' 모드의 테스트 정확도:', score)"
      ],
      "metadata": {
        "id": "u-VF7MHAVMFf",
        "colab": {
          "base_uri": "https://localhost:8080/"
        },
        "outputId": "4ed09cf2-2608-4dcc-a02a-a9cfb208c494"
      },
      "execution_count": null,
      "outputs": [
        {
          "output_type": "stream",
          "name": "stdout",
          "text": [
            "Epoch 1/3\n",
            "5734/5734 [==============================] - 20s 3ms/step - loss: 0.6110 - accuracy: 0.7257 - val_loss: 0.4535 - val_accuracy: 0.9168\n",
            "Epoch 2/3\n",
            "5734/5734 [==============================] - 19s 3ms/step - loss: 0.3795 - accuracy: 0.8339 - val_loss: 0.4057 - val_accuracy: 0.9101\n",
            "Epoch 3/3\n",
            "5734/5734 [==============================] - 19s 3ms/step - loss: 0.2959 - accuracy: 0.8766 - val_loss: 0.3148 - val_accuracy: 0.9229\n",
            "798/798 [==============================] - 3s 3ms/step - loss: 0.6877 - accuracy: 0.7013\n",
            "binary 모드의 테스트 정확도: 0.7012701630592346\n",
            "Epoch 1/3\n",
            "5734/5734 [==============================] - 18s 3ms/step - loss: 0.5447 - accuracy: 0.7554 - val_loss: 0.3613 - val_accuracy: 0.9641\n",
            "Epoch 2/3\n",
            "5734/5734 [==============================] - 18s 3ms/step - loss: 0.3245 - accuracy: 0.8578 - val_loss: 0.4206 - val_accuracy: 0.8950\n",
            "Epoch 3/3\n",
            "5734/5734 [==============================] - 18s 3ms/step - loss: 0.2537 - accuracy: 0.8953 - val_loss: 0.3055 - val_accuracy: 0.9150\n",
            "798/798 [==============================] - 2s 3ms/step - loss: 0.6510 - accuracy: 0.7061\n",
            "count 모드의 테스트 정확도: 0.7061313986778259\n",
            "Epoch 1/3\n",
            "5734/5734 [==============================] - 18s 3ms/step - loss: 0.7536 - accuracy: 0.6629 - val_loss: 0.4732 - val_accuracy: 0.9521\n",
            "Epoch 2/3\n",
            "5734/5734 [==============================] - 18s 3ms/step - loss: 0.4710 - accuracy: 0.7924 - val_loss: 0.5629 - val_accuracy: 0.7932\n",
            "Epoch 3/3\n",
            "5734/5734 [==============================] - 17s 3ms/step - loss: 0.3616 - accuracy: 0.8452 - val_loss: 0.5440 - val_accuracy: 0.7032\n",
            "798/798 [==============================] - 2s 3ms/step - loss: 0.6230 - accuracy: 0.7057\n",
            "tfidf 모드의 테스트 정확도: 0.7056609988212585\n"
          ]
        }
      ]
    }
  ]
}